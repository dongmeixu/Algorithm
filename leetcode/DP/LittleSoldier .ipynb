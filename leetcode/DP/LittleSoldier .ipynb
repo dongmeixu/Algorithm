{
 "cells": [
  {
   "cell_type": "markdown",
   "metadata": {},
   "source": [
    "### N * M的棋盘上，小兵要从左下角走到右下角，只能向上或者向右走，问有多少种走法？"
   ]
  },
  {
   "cell_type": "markdown",
   "metadata": {},
   "source": [
    "### 组合数递推公式：C(n, r) = C(n - 1, r - 1) + C(n - 1, r) "
   ]
  },
  {
   "cell_type": "code",
   "execution_count": 1,
   "metadata": {
    "collapsed": true
   },
   "outputs": [],
   "source": [
    "import numpy as np\n",
    "import time"
   ]
  },
  {
   "cell_type": "code",
   "execution_count": 2,
   "metadata": {
    "collapsed": true
   },
   "outputs": [],
   "source": [
    "# 暴力搜索\n",
    "def f1(n, m):\n",
    "    if n == 0 or m == 0:\n",
    "        return 0\n",
    "    if n == 1 or m == 1:\n",
    "        return 1\n",
    "    return f1(n - 1, m) + f1(n, m - 1)"
   ]
  },
  {
   "cell_type": "code",
   "execution_count": 3,
   "metadata": {},
   "outputs": [],
   "source": [
    "# 记忆性搜索\n",
    "def f2(n, m):\n",
    "    if n == 0 or m == 0:\n",
    "        return 0\n",
    "    if n == 1 or m == 1:\n",
    "        return 1\n",
    "    if res[n - 1][m - 1] > 0:\n",
    "        return res[n - 1][m - 1]\n",
    "    res[n - 1][m - 1] = f2(n - 1, m) + f2(n, m - 1)\n",
    "    return res[n - 1][m - 1]"
   ]
  },
  {
   "cell_type": "code",
   "execution_count": 4,
   "metadata": {
    "collapsed": true
   },
   "outputs": [],
   "source": [
    "# 递推\n",
    "def f3(n, m):\n",
    "    for i in range(1, n):\n",
    "        for j in range(1, m): \n",
    "            res[i][j] = res[i - 1][j] + res[i][j - 1]\n",
    "#     print(res)\n",
    "    return res[n - 1][m - 1]"
   ]
  },
  {
   "cell_type": "code",
   "execution_count": 5,
   "metadata": {},
   "outputs": [
    {
     "name": "stdout",
     "output_type": "stream",
     "text": [
      "----------------------------------------------------------------------------------------------------\n",
      "70\n",
      "0.0\n",
      "70.0\n",
      "0.0\n",
      "70.0\n",
      "0.0\n",
      "----------------------------------------------------------------------------------------------------\n",
      "48620\n",
      "0.033622026443481445\n",
      "48620.0\n",
      "0.0004696846008300781\n",
      "48620.0\n",
      "0.0\n"
     ]
    }
   ],
   "source": [
    "for i in [5, 10]:\n",
    "\n",
    "    print(\"-\" * 100)\n",
    "    begin = time.time()\n",
    "    print(f1(i, i))\n",
    "    end = time.time()\n",
    "    print(end - begin)\n",
    "\n",
    "    begin = time.time()\n",
    "    res = np.zeros((i, i))\n",
    "    print(f2(i, i))\n",
    "    end = time.time()\n",
    "    print(end - begin)\n",
    "    \n",
    "    begin = time.time()\n",
    "    res = np.ones((i, i))\n",
    "    print(f3(i, i))\n",
    "    end = time.time()\n",
    "    print(end - begin)"
   ]
  },
  {
   "cell_type": "markdown",
   "metadata": {},
   "source": [
    "## 小兵向前冲，某点不能走"
   ]
  },
  {
   "cell_type": "code",
   "execution_count": 6,
   "metadata": {
    "collapsed": true
   },
   "outputs": [],
   "source": [
    "# 记忆性搜索\n",
    "xno = yno = 3\n",
    "def f2(n, m):\n",
    "    if n == 0 or m == 0:\n",
    "        return 0\n",
    "    if n == 1 or m == 1:\n",
    "        return 1\n",
    "    if n == xno and m == yno:\n",
    "        return 0\n",
    "    #  记忆化搜索   \n",
    "    if res[n - 1][m - 1] > 0:\n",
    "        return res[n - 1][m - 1]\n",
    "    res[n - 1][m - 1] = f2(n - 1, m) + f2(n, m - 1)\n",
    "    return res[n - 1][m - 1]"
   ]
  },
  {
   "cell_type": "code",
   "execution_count": 7,
   "metadata": {},
   "outputs": [
    {
     "data": {
      "text/plain": [
       "120.0"
      ]
     },
     "execution_count": 7,
     "metadata": {},
     "output_type": "execute_result"
    }
   ],
   "source": [
    "res = np.zeros((7, 5))\n",
    "f2(7, 5)"
   ]
  },
  {
   "cell_type": "code",
   "execution_count": 8,
   "metadata": {
    "collapsed": true
   },
   "outputs": [],
   "source": [
    "# 递推\n",
    "xno=yno=3\n",
    "def f3(n, m):\n",
    "    for i in range(1, n):\n",
    "        for j in range(1, m): \n",
    "            if i == xno and j == yno:\n",
    "                res[i][j] = 0\n",
    "            else:\n",
    "                res[i][j] = res[i - 1][j] + res[i][j - 1]\n",
    "#     print(res)\n",
    "    return res[n - 1][m - 1]"
   ]
  },
  {
   "cell_type": "code",
   "execution_count": 9,
   "metadata": {},
   "outputs": [
    {
     "data": {
      "text/plain": [
       "130.0"
      ]
     },
     "execution_count": 9,
     "metadata": {},
     "output_type": "execute_result"
    }
   ],
   "source": [
    "res = np.ones((7, 5))\n",
    "f3(7, 5)"
   ]
  },
  {
   "cell_type": "code",
   "execution_count": null,
   "metadata": {
    "collapsed": true
   },
   "outputs": [],
   "source": []
  }
 ],
 "metadata": {
  "kernelspec": {
   "display_name": "Python 3",
   "language": "python",
   "name": "python3"
  },
  "language_info": {
   "codemirror_mode": {
    "name": "ipython",
    "version": 3
   },
   "file_extension": ".py",
   "mimetype": "text/x-python",
   "name": "python",
   "nbconvert_exporter": "python",
   "pygments_lexer": "ipython3",
   "version": "3.5.2"
  }
 },
 "nbformat": 4,
 "nbformat_minor": 2
}
