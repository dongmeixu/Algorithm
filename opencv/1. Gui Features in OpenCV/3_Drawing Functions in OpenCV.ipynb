{
 "cells": [
  {
   "cell_type": "markdown",
   "metadata": {},
   "source": [
    "### Drawing Functions in OpenCV\n",
    "\n",
    "#### Goal\n",
    "\n",
    "- Learn to draw different geometric shapes with OpenCV\n",
    "- You will learn these functions : cv2.line(), cv2.circle() , cv2.rectangle(), cv2.ellipse(), cv2.putText() etc.\n",
    "\n",
    "#### Code\n",
    "\n",
    "In all the above functions, you will see some common arguments as given below:\n",
    "\n",
    "- img : The image where you want to draw the shapes\n",
    "- color : Color of the shape. for BGR, pass it as a tuple, eg: (255,0,0) for blue. For grayscale, just pass the scalar value.\n",
    "- thickness : Thickness of the line or circle etc. If -1 is passed for closed figures like circles, it will fill the shape. default thickness = 1\n",
    "- lineType : Type of line, whether 8-connected, anti-aliased line etc. By default, it is 8-connected. cv2.LINE_AA gives anti-aliased line which looks great for curves."
   ]
  },
  {
   "cell_type": "code",
   "execution_count": null,
   "metadata": {},
   "outputs": [],
   "source": [
    "import numpy as np\n",
    "import cv2 "
   ]
  },
  {
   "cell_type": "markdown",
   "metadata": {},
   "source": [
    "#### Drawing Line\n",
    "\n",
    "To draw a line, you need to pass starting and ending coordinates of line. We will create a black image and draw a blue line on it from top-left to bottom-right corners."
   ]
  },
  {
   "cell_type": "code",
   "execution_count": null,
   "metadata": {},
   "outputs": [],
   "source": [
    "# Create a black image\n",
    "img = np.zeros((512, 512, 3), np.uint8)\n",
    "\n",
    "# Draw a diagonal blue line with thickness of 5 px\n",
    "img = cv2.line(img, (0, 0), (511, 511), (255, 0, 0), 5)\n",
    "cv2.imshow(\"Line\", img)\n",
    "cv2.waitKey(0)\n",
    "cv2.destroyAllWindows()"
   ]
  },
  {
   "cell_type": "markdown",
   "metadata": {},
   "source": [
    "#### Drawing Rectangle\n",
    "\n",
    "To draw a rectangle, you need top-left corner and bottom-right corner of rectangle. This time we will draw a green rectangle at the top-right corner of image."
   ]
  },
  {
   "cell_type": "code",
   "execution_count": null,
   "metadata": {},
   "outputs": [],
   "source": [
    "img_rec = cv2.rectangle(img, (384, 0), (510, 128), (0, 255, 0), 3)\n",
    "cv2.imshow(\"Rectangle\", img_rec)\n",
    "cv2.waitKey(0)\n",
    "cv2.destroyAllWindows()"
   ]
  },
  {
   "cell_type": "markdown",
   "metadata": {},
   "source": [
    "#### Drawing Circle(圆心坐标 & 半径)\n",
    "\n",
    "To draw a circle, you need its center coordinates and radius. We will draw a circle inside the rectangle drawn above."
   ]
  },
  {
   "cell_type": "code",
   "execution_count": null,
   "metadata": {},
   "outputs": [],
   "source": [
    "img_circle = cv2.circle(img, (447,63), 63, (0, 0, 255), -1)\n",
    "cv2.imshow(\"Circle\", img_circle)\n",
    "cv2.waitKey(0)\n",
    "cv2.destroyAllWindows()"
   ]
  },
  {
   "cell_type": "markdown",
   "metadata": {},
   "source": [
    "#### Drawing Ellipse\n",
    "\n",
    "To draw the ellipse, we need to pass several arguments. One argument is the center location (x,y). Next argument is axes lengths (major axis length, minor axis length). angle is the angle of rotation of ellipse in anti-clockwise direction. startAngle and endAngle denotes the starting and ending of ellipse arc measured in clockwise direction from major axis. i.e. giving values 0 and 360 gives the full ellipse. For more details, check the documentation of cv2.ellipse(). Below example draws a half ellipse at the center of the image."
   ]
  },
  {
   "cell_type": "code",
   "execution_count": null,
   "metadata": {},
   "outputs": [],
   "source": [
    "img_ellipse = cv2.ellipse(img,(256,256),(100,50),0,0,360,360,-1)\n",
    "cv2.imshow(\"Ellipse\", img_ellipse)\n",
    "cv2.waitKey(0)\n",
    "cv2.destroyAllWindows()"
   ]
  },
  {
   "cell_type": "markdown",
   "metadata": {},
   "source": [
    "#### Drawing Polygon\n",
    "\n",
    "To draw a polygon, first you need coordinates of vertices. Make those points into an array of shape ROWSx1x2 where ROWS are number of vertices and it should be of type int32. Here we draw a small polygon of with four vertices in yellow color."
   ]
  },
  {
   "cell_type": "code",
   "execution_count": null,
   "metadata": {},
   "outputs": [],
   "source": [
    "pts = np.array([[10,5],[20,30],[70,20],[50,10]], np.int32)\n",
    "pts = pts.reshape((-1,1,2))\n",
    "img_polygon = cv2.polylines(img,[pts],True,(0,255,255))\n",
    "cv2.imshow(\"Polygon\", img_polygon)\n",
    "cv2.waitKey(0)\n",
    "cv2.destroyAllWindows()"
   ]
  },
  {
   "cell_type": "markdown",
   "metadata": {},
   "source": [
    "#### Adding Text to Images:\n",
    "\n",
    "To put texts in images, you need specify following things.\n",
    "- Text data that you want to write\n",
    "- Position coordinates of where you want put it (i.e. bottom-left corner where data starts).\n",
    "- Font type (Check cv2.putText() docs for supported fonts)\n",
    "- Font Scale (specifies the size of font)\n",
    "- regular things like color, thickness, lineType etc. For better look, lineType = cv2.LINE_AA is recommended.\n",
    "\n",
    "We will write OpenCV on our image in white color."
   ]
  },
  {
   "cell_type": "code",
   "execution_count": null,
   "metadata": {},
   "outputs": [],
   "source": [
    "font = cv2.FONT_HERSHEY_SIMPLEX\n",
    "cv2.putText(img,'OpenCV',(10,500), font, 4,(255,255,255),2,cv2.LINE_AA)\n",
    "cv2.imshow(\"put test\", img)\n",
    "cv2.waitKey(0)\n",
    "cv2.destroyAllWindows()"
   ]
  },
  {
   "cell_type": "markdown",
   "metadata": {},
   "source": [
    "练习： 创建opencv的logo\n",
    "![avatar](../imgs/logo.jpg)"
   ]
  },
  {
   "cell_type": "code",
   "execution_count": 11,
   "metadata": {},
   "outputs": [],
   "source": [
    "import numpy as np\n",
    "import cv2  # 3.0.0-dev\n",
    "import math\n",
    "\n",
    "r1 = 70\n",
    "r2 = 30\n",
    "\n",
    "ang = 60\n",
    "\n",
    "d = 170\n",
    "h = int(d / 2 * math.sqrt(3))\n",
    "\n",
    "dot_red = (256, 128)\n",
    "dot_green = (int(dot_red[0] - d / 2), dot_red[1] + h)\n",
    "dot_blue = (int(dot_red[0] + d / 2), dot_red[1] + h)\n",
    "\n",
    "# tan = float(dot_red[0]-dot_green[0])/(dot_green[1]-dot_red[0])\n",
    "# ang = math.atan(tan)/math.pi*180\n",
    "\n",
    "red = (0, 0, 255)\n",
    "green = (0, 255, 0)\n",
    "blue = (255, 0, 0)\n",
    "black = (0, 0, 0)\n",
    "\n",
    "full = -1\n",
    "\n",
    "img = np.zeros((512, 512, 3), np.uint8)\n",
    "# img = np.ones((512, 512, 3), np.uint8)\n",
    "\n",
    "cv2.circle(img, dot_red, r1, red, full)\n",
    "cv2.circle(img, dot_green, r1, green, full)\n",
    "cv2.circle(img, dot_blue, r1, blue, full)\n",
    "cv2.circle(img, dot_red, r2, black, full)\n",
    "cv2.circle(img, dot_green, r2, black, full)\n",
    "cv2.circle(img, dot_blue, r2, black, full)\n",
    "\n",
    "cv2.ellipse(img, dot_red, (r1, r1), ang, 0, ang, black, full)\n",
    "cv2.ellipse(img, dot_green, (r1, r1), 360 - ang, 0, ang, black, full)\n",
    "cv2.ellipse(img, dot_blue, (r1, r1), 360 - 2 * ang, ang, 0, black, full)\n",
    "\n",
    "font = cv2.FONT_HERSHEY_SIMPLEX\n",
    "cv2.putText(img, text='OpenCV', org=(15, 450), fontFace=font, fontScale=4, color=(255, 255, 255), thickness=10)#text,\n",
    "\n",
    "cv2.imshow(\"logo\", img)\n",
    "cv2.waitKey(0)\n",
    "cv2.destroyAllWindows()\n",
    "# cv2.imwrite(\"opencv_logo.png\", img)\n",
    "# cv2.imwrite(\"opencv_logo2.png\", img)"
   ]
  },
  {
   "cell_type": "code",
   "execution_count": null,
   "metadata": {},
   "outputs": [],
   "source": []
  }
 ],
 "metadata": {
  "kernelspec": {
   "display_name": "Python 3",
   "language": "python",
   "name": "python3"
  },
  "language_info": {
   "codemirror_mode": {
    "name": "ipython",
    "version": 3
   },
   "file_extension": ".py",
   "mimetype": "text/x-python",
   "name": "python",
   "nbconvert_exporter": "python",
   "pygments_lexer": "ipython3",
   "version": "3.6.5"
  }
 },
 "nbformat": 4,
 "nbformat_minor": 2
}
